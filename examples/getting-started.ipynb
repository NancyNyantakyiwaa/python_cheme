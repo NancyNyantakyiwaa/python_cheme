{
 "cells": [
  {
   "cell_type": "markdown",
   "metadata": {},
   "source": [
    "<!--NOTEBOOK_HEADER-->\n",
    "*This notebook is adapted from course material from [CBE20255](https://jckantor.github.io/CBE20255)\n",
    "by Jeffrey Kantor (jeff at nd.edu); see original content [on Github](https://github.com/jckantor/CBE20255.git).\n",
    "The text is released under the [CC-BY-NC-ND-4.0 license](https://creativecommons.org/licenses/by-nc-nd/4.0/legalcode),\n",
    "and code is released under the [MIT license](https://opensource.org/licenses/MIT).*"
   ]
  },
  {
   "cell_type": "markdown",
   "metadata": {
    "colab_type": "text",
    "id": "ub8jClemdOv-"
   },
   "source": [
    "# Python and Jupyter Notebooks"
   ]
  },
  {
   "cell_type": "markdown",
   "metadata": {
    "colab_type": "text",
    "id": "HlCqwbAEg6Fw"
   },
   "source": [
    "**[Python](https://www.python.org/)** is a high-level, object-oriented programming language well suited to the rapid development of web and scientific applications. It is widely used for interactive science and engineering computations where productivity is a more important than achieving the highest levels of numerical performance. Python refers to the language itself plus a large eco-system of development tools, documentation, and code libraries for numerical computations, data management, and graphics. \n",
    "\n",
    "**[Jupyter Notebooks](https://Jupyter.org)** are interactive documents, like this one, that include text and code. The documents are ordinary files with a suffix `.ipynb`. They can be uploaded, downloaded, and shared like any other digital document. The notebooks are composed of individual cells containing either text, code, or the output of a calculation. The code cells be written in different programming languages such as Python, R, and Julia."
   ]
  },
  {
   "cell_type": "markdown",
   "metadata": {
    "colab_type": "text",
    "id": "NLvYtMzqdOwI"
   },
   "source": [
    "# Python Basics\n",
    "\n",
    "Python is an elegant and modern language for programming and problem solving that has found increasing use by engineers and scientists.  In the next few cells we'll demonstrate some basic Python functionality."
   ]
  },
  {
   "cell_type": "markdown",
   "metadata": {
    "colab_type": "text",
    "id": "6GvOBb-UdOwK"
   },
   "source": [
    "## Arithmetic Operations"
   ]
  },
  {
   "cell_type": "code",
   "execution_count": 6,
   "metadata": {
    "colab": {},
    "colab_type": "code",
    "id": "tHiS8xANdOwL",
    "outputId": "3c0fb60e-eda8-4b50-9932-ef5abf5e04cb"
   },
   "outputs": [
    {
     "name": "stdout",
     "output_type": "stream",
     "text": [
      "a + b =  14\n",
      "a**b =  144\n",
      "a/b =  6.0\n"
     ]
    }
   ],
   "source": [
    "a = 12\n",
    "b = 2\n",
    "print(\"a + b = \", a + b)\n",
    "print(\"a**b = \", a**b)\n",
    "print(\"a/b = \", a/b)"
   ]
  },
  {
   "cell_type": "markdown",
   "metadata": {},
   "source": [
    "## Scientific computing with numpy"
   ]
  },
  {
   "cell_type": "markdown",
   "metadata": {
    "colab_type": "text",
    "id": "MoVqT__pdOwP"
   },
   "source": [
    "One of the best features of Python is the ability to extend it's functionality by importing special purpose libraries of functions, or modules.  For example, the [`numpy` library](https://numpy.org/) is the fundamental package for scientific computing with Python. It contains among other things:\n",
    "\n",
    "- a powerful N-dimensional array object\n",
    "- sophisticated (broadcasting) functions\n",
    "- tools for integrating C/C++ and Fortran code\n",
    "- useful linear algebra, Fourier transform, and random number capabilities\n",
    "\n",
    "This next cell shows how to import `numpy` with the prefix `np`, then use it to call a common function:"
   ]
  },
  {
   "cell_type": "code",
   "execution_count": 7,
   "metadata": {
    "colab": {},
    "colab_type": "code",
    "id": "qaWjJLpPdOwQ",
    "outputId": "b592d447-a49e-4261-f36b-7d19188ea5d3"
   },
   "outputs": [
    {
     "data": {
      "text/plain": [
       "-2.4492935982947064e-16"
      ]
     },
     "execution_count": 7,
     "metadata": {},
     "output_type": "execute_result"
    }
   ],
   "source": [
    "import numpy as np\n",
    "np.sin(2*np.pi)"
   ]
  },
  {
   "cell_type": "markdown",
   "metadata": {
    "colab_type": "text",
    "id": "FEQz3ZaddOwT"
   },
   "source": [
    "## Lists"
   ]
  },
  {
   "cell_type": "markdown",
   "metadata": {
    "colab_type": "text",
    "id": "PuQyiwjwdOwT"
   },
   "source": [
    "Lists are a versatile way of organizing your data in Python."
   ]
  },
  {
   "cell_type": "code",
   "execution_count": 8,
   "metadata": {
    "colab": {},
    "colab_type": "code",
    "id": "KNekErcidOwV",
    "outputId": "027d078b-6ce8-42f2-c8fb-eb4ca6eddb2c"
   },
   "outputs": [
    {
     "name": "stdout",
     "output_type": "stream",
     "text": [
      "[1, 2, 3, 4]\n"
     ]
    }
   ],
   "source": [
    "xList = [1, 2, 3, 4]\n",
    "print(xList)"
   ]
  },
  {
   "cell_type": "markdown",
   "metadata": {
    "colab_type": "text",
    "id": "Qx1TyoKPdOwY"
   },
   "source": [
    "Concatentation is the operation of joining one list to another. "
   ]
  },
  {
   "cell_type": "code",
   "execution_count": 9,
   "metadata": {
    "colab": {},
    "colab_type": "code",
    "id": "27RQ4lVCdOwZ",
    "outputId": "45135d5b-f30d-492b-ca60-c816f2c06eb5"
   },
   "outputs": [
    {
     "data": {
      "text/plain": [
       "[1, 2, 3, 4, 5, 6, 7, 8]"
      ]
     },
     "execution_count": 9,
     "metadata": {},
     "output_type": "execute_result"
    }
   ],
   "source": [
    "# Concatenation\n",
    "x = [1, 2, 3, 4];\n",
    "y = [5, 6, 7, 8];\n",
    "\n",
    "x + y"
   ]
  },
  {
   "cell_type": "markdown",
   "metadata": {
    "colab_type": "text",
    "id": "WFvsUiyOdOwb"
   },
   "source": [
    "A common operation is to apply a binary operation to elements of a single list. For an example such as arithmetic addition, this can be done using the `sum` function from `numpy`."
   ]
  },
  {
   "cell_type": "code",
   "execution_count": 10,
   "metadata": {
    "colab": {},
    "colab_type": "code",
    "id": "3uvuKZRTdOwc",
    "outputId": "06b2040c-63bb-4905-d090-6a61367c20a4"
   },
   "outputs": [
    {
     "name": "stdout",
     "output_type": "stream",
     "text": [
      "10\n"
     ]
    }
   ],
   "source": [
    "# Two ways to sum a list of numbers\n",
    "print(np.sum(x))"
   ]
  },
  {
   "cell_type": "markdown",
   "metadata": {
    "colab_type": "text",
    "id": "ERV4Nw5UdOwf"
   },
   "source": [
    "A for loop is a means for iterating over the elements of a list. The colon marks the start of code that will be executed for each element of a list. Indenting has meaning in Python. In this case, everything in the indented block will be executed on each iteration of the for loop."
   ]
  },
  {
   "cell_type": "code",
   "execution_count": 11,
   "metadata": {
    "colab": {},
    "colab_type": "code",
    "id": "2lQNC1GddOwg",
    "outputId": "70335dd5-1449-4c3f-b16c-351f72895d5b"
   },
   "outputs": [
    {
     "name": "stdout",
     "output_type": "stream",
     "text": [
      "x = 1     sin(x) =  0.8414709848078965\n",
      "x = 2     sin(x) =  0.9092974268256817\n",
      "x = 3     sin(x) =  0.1411200080598672\n",
      "x = 4     sin(x) =  -0.7568024953079282\n"
     ]
    }
   ],
   "source": [
    "for x in xList:\n",
    "    print(\"x =\", x, \"    sin(x) = \", np.sin(x))"
   ]
  },
  {
   "cell_type": "markdown",
   "metadata": {
    "colab_type": "text",
    "id": "azHKUfrHdOwj"
   },
   "source": [
    "A **list comprehension** is a very useful tool for creating a new list using data from an existing. For example, suppose you have a list consisting random numbers"
   ]
  },
  {
   "cell_type": "code",
   "execution_count": 12,
   "metadata": {
    "colab": {},
    "colab_type": "code",
    "id": "v-wqo344dOwl",
    "outputId": "527aabbe-7ddb-4d77-bb35-b70b6026995a"
   },
   "outputs": [
    {
     "data": {
      "text/plain": [
       "[0.1952325947356377,\n",
       " 1.5664950727528784,\n",
       " 2.8645620994056857,\n",
       " 3.610813783399313,\n",
       " 4.745590841711996,\n",
       " 5.929632460883009,\n",
       " 6.0790789599780926,\n",
       " 7.643940863853748,\n",
       " 8.721811826350383,\n",
       " 9.506420667869708]"
      ]
     },
     "execution_count": 12,
     "metadata": {},
     "output_type": "execute_result"
    }
   ],
   "source": [
    "from random import random\n",
    "\n",
    "[i + random() for i in range(0,10)]"
   ]
  },
  {
   "cell_type": "markdown",
   "metadata": {
    "colab_type": "text",
    "id": "K3IUohOGdOwo"
   },
   "source": [
    "## Dictionaries"
   ]
  },
  {
   "cell_type": "markdown",
   "metadata": {
    "colab_type": "text",
    "id": "A0wFoRPIdOwp"
   },
   "source": [
    "Dictionaries are useful for storing and retrieving data as key-value pairs.  For example, here is a short dictionary of molar masses. The keys are molecular formulas, and the values are the corresponding molar masses."
   ]
  },
  {
   "cell_type": "code",
   "execution_count": 13,
   "metadata": {
    "colab": {},
    "colab_type": "code",
    "id": "tdy5Uz0YdOwr",
    "outputId": "1660f0ad-da69-49f2-b44d-571b0a86441b"
   },
   "outputs": [
    {
     "name": "stdout",
     "output_type": "stream",
     "text": [
      "{'CH4': 16.04, 'H2O': 18.02, 'O2': 32.0, 'CO2': 44.01}\n"
     ]
    }
   ],
   "source": [
    "mw = {'CH4': 16.04, 'H2O': 18.02, 'O2':32.00, 'CO2': 44.01}\n",
    "print(mw)"
   ]
  },
  {
   "cell_type": "markdown",
   "metadata": {
    "colab_type": "text",
    "id": "7z0wjD94dOwu"
   },
   "source": [
    "We can a value to an existing dictionary."
   ]
  },
  {
   "cell_type": "code",
   "execution_count": 14,
   "metadata": {
    "colab": {},
    "colab_type": "code",
    "id": "PsDuwnM_dOww",
    "outputId": "273fd808-4aec-4f1e-a1b5-c74509d46fb1"
   },
   "outputs": [
    {
     "name": "stdout",
     "output_type": "stream",
     "text": [
      "{'CH4': 16.04, 'H2O': 18.02, 'O2': 32.0, 'CO2': 44.01, 'C8H18': 114.23}\n"
     ]
    }
   ],
   "source": [
    "mw['C8H18'] = 114.23\n",
    "print(mw)"
   ]
  },
  {
   "cell_type": "markdown",
   "metadata": {
    "colab_type": "text",
    "id": "2bv2O_vhdOw1"
   },
   "source": [
    "We can retrieve a value from a dictionary."
   ]
  },
  {
   "cell_type": "code",
   "execution_count": 15,
   "metadata": {
    "colab": {},
    "colab_type": "code",
    "id": "FsfBuSZbdOw1",
    "outputId": "ede088e7-0f45-4529-d9f5-17dd3860eea4"
   },
   "outputs": [
    {
     "data": {
      "text/plain": [
       "16.04"
      ]
     },
     "execution_count": 15,
     "metadata": {},
     "output_type": "execute_result"
    }
   ],
   "source": [
    "mw['CH4']"
   ]
  },
  {
   "cell_type": "markdown",
   "metadata": {
    "colab_type": "text",
    "id": "6P6YjVDwdOw6"
   },
   "source": [
    "A for loop is a useful means of interating over all key-value pairs of a dictionary."
   ]
  },
  {
   "cell_type": "code",
   "execution_count": 16,
   "metadata": {
    "colab": {},
    "colab_type": "code",
    "id": "YkPMDAw-dOw7",
    "outputId": "965778f0-b25c-457e-8002-dd9f82b94fad"
   },
   "outputs": [
    {
     "name": "stdout",
     "output_type": "stream",
     "text": [
      "The molar mass of CH4 is 16.04  \n",
      "The molar mass of H2O is 18.02  \n",
      "The molar mass of O2 is 32.00  \n",
      "The molar mass of CO2 is 44.01  \n",
      "The molar mass of C8H18 is 114.23 \n"
     ]
    }
   ],
   "source": [
    "for species in mw.keys():\n",
    "    print(\"The molar mass of {:<s} is {:<7.2f}\".format(species, mw[species]))"
   ]
  },
  {
   "cell_type": "markdown",
   "metadata": {
    "colab_type": "text",
    "id": "bTxvlcVZdOw-"
   },
   "source": [
    "Dictionaries can be sorted by key or by value"
   ]
  },
  {
   "cell_type": "code",
   "execution_count": 17,
   "metadata": {
    "colab": {},
    "colab_type": "code",
    "id": "c6cUv4AddOw_",
    "outputId": "83d25f78-d34c-4c5a-94b8-0e1b075269b1"
   },
   "outputs": [
    {
     "name": "stdout",
     "output_type": "stream",
     "text": [
      " C8H18      114.23\n",
      " CH4         16.04\n",
      " CO2         44.01\n",
      " H2O         18.02\n",
      " O2          32.00\n"
     ]
    }
   ],
   "source": [
    "for species in sorted(mw):\n",
    "    print(\" {:<8s}  {:>7.2f}\".format(species, mw[species]))"
   ]
  },
  {
   "cell_type": "code",
   "execution_count": 18,
   "metadata": {
    "colab": {},
    "colab_type": "code",
    "id": "0CQdhGm9dOxF",
    "outputId": "1a7d2441-7574-4dff-d972-793129e26bc9"
   },
   "outputs": [
    {
     "name": "stdout",
     "output_type": "stream",
     "text": [
      " CH4         16.04\n",
      " H2O         18.02\n",
      " O2          32.00\n",
      " CO2         44.01\n",
      " C8H18      114.23\n"
     ]
    }
   ],
   "source": [
    "for species in sorted(mw, key = mw.get):\n",
    "    print(\" {:<8s}  {:>7.2f}\".format(species, mw[species]))"
   ]
  },
  {
   "cell_type": "markdown",
   "metadata": {
    "colab_type": "text",
    "id": "tCAFS5j6dOxI"
   },
   "source": [
    "## Plotting with matplotlib"
   ]
  },
  {
   "cell_type": "markdown",
   "metadata": {
    "colab_type": "text",
    "id": "3Vneyg9wdOxI"
   },
   "source": [
    "Importing the [`matplotlib.pyplot`](https://matplotlib.org) library gives IPython notebooks plotting functionality very similar to Matlab's. Here are some examples using functions from the library."
   ]
  },
  {
   "cell_type": "code",
   "execution_count": 21,
   "metadata": {
    "colab": {},
    "colab_type": "code",
    "id": "A1RIkEcPdOxJ",
    "outputId": "cdc4220b-756a-4d36-f407-f687e0fa816a"
   },
   "outputs": [
    {
     "data": {
      "image/png": "[encoded data removed]",
      "text/plain": [
       "<Figure size 432x288 with 1 Axes>"
      ]
     },
     "metadata": {
      "needs_background": "light"
     },
     "output_type": "display_data"
    }
   ],
   "source": [
    "import matplotlib.pyplot as plt\n",
    "import numpy as np # note: this isn't necessary to do again in the same Python session\n",
    "%matplotlib inline # sets matplotlib backend to 'inline'; plots appear without plt.show() command\n",
    "\n",
    "x = np.linspace(0,10)\n",
    "y = np.sin(x)\n",
    "z = np.cos(x)\n",
    "\n",
    "plt.plot(x,y,'b',x,z,'r')\n",
    "plt.xlabel('Radians');\n",
    "plt.ylabel('Value');\n",
    "plt.title('Plotting Demonstration')\n",
    "plt.legend(['Sin','Cos'])\n",
    "plt.grid(True)"
   ]
  },
  {
   "cell_type": "code",
   "execution_count": 23,
   "metadata": {
    "colab": {},
    "colab_type": "code",
    "id": "EsQgcqBqdOxO",
    "outputId": "ad1b2c5b-ac14-45fe-98a6-76270c63523d"
   },
   "outputs": [
    {
     "data": {
      "text/plain": [
       "Text(0.5, 1.0, 'Cos(x)')"
      ]
     },
     "execution_count": 23,
     "metadata": {},
     "output_type": "execute_result"
    },
    {
     "data": {
      "image/png": "[encoded data removed]",
      "text/plain": [
       "<Figure size 432x288 with 2 Axes>"
      ]
     },
     "metadata": {
      "needs_background": "light"
     },
     "output_type": "display_data"
    }
   ],
   "source": [
    "plt.subplot(2,1,1) # 2 rows, 1 column, 1st plot\n",
    "plt.plot(x,y)\n",
    "plt.title('Sin(x)')\n",
    "\n",
    "plt.subplot(2,1,2) # 2 rows, 1 column, 2nd plot\n",
    "plt.plot(x,z)\n",
    "plt.title('Cos(x)')"
   ]
  },
  {
   "cell_type": "markdown",
   "metadata": {
    "colab_type": "text",
    "id": "bd5zqdXXdOxR"
   },
   "source": [
    "## Solving Equations using Sympy"
   ]
  },
  {
   "cell_type": "markdown",
   "metadata": {
    "colab_type": "text",
    "id": "nq1m8gaddOxS"
   },
   "source": [
    "Here we demonstrate the use of a symbolic algebra package [`Sympy`](http://sympy.org/en/index.html) for routine problem solving.  Let's setup the ideal gas law,\n",
    "\n",
    "$ P V = n R T $,\n",
    "\n",
    "solve for $P$, and plot $P$ as a function of $V$ for a given $n$ and $T$."
   ]
  },
  {
   "cell_type": "code",
   "execution_count": 24,
   "metadata": {
    "colab": {},
    "colab_type": "code",
    "id": "jl-wimO3dOxU",
    "outputId": "3a61fdfe-df02-4deb-d543-0a8e52b5433a"
   },
   "outputs": [
    {
     "name": "stdout",
     "output_type": "stream",
     "text": [
      "85521.9882637211/V\n"
     ]
    },
    {
     "data": {
      "image/png": "[encoded data removed]",
      "text/plain": [
       "<Figure size 432x288 with 1 Axes>"
      ]
     },
     "metadata": {
      "needs_background": "light"
     },
     "output_type": "display_data"
    },
    {
     "data": {
      "text/plain": [
       "<sympy.plotting.plot.Plot at 0x12027dac8>"
      ]
     },
     "execution_count": 24,
     "metadata": {},
     "output_type": "execute_result"
    }
   ],
   "source": [
    "import sympy as sym\n",
    "\n",
    "sym.var('P V n R T');\n",
    "\n",
    "# Gas constant\n",
    "R = 8.314        # J/K/gmol\n",
    "R = R * 1000     # J/K/kgmol\n",
    "\n",
    "# Moles of air\n",
    "mAir = 1         # kg\n",
    "mwAir = 28.97    # kg/kg-mol\n",
    "n = mAir/mwAir   # kg-mol\n",
    "\n",
    "# Temperature\n",
    "T = 298\n",
    "\n",
    "# Equation\n",
    "eqn = sym.Eq(P*V,n*R*T)\n",
    "\n",
    "# Solve for P \n",
    "f = sym.solve(eqn,P)\n",
    "print(f[0])\n",
    "\n",
    "# Use the sympy plot function to plot\n",
    "sym.plot(f[0],(V,1,10),xlabel='Volume m**3',ylabel='Pressure Pa')"
   ]
  }
 ],
 "metadata": {
  "colab": {
   "collapsed_sections": [],
   "name": "Getting_Started_with_Jupyter_Notebooks_and_Python.ipynb",
   "provenance": [],
   "toc_visible": true,
   "version": "0.3.2"
  },
  "kernelspec": {
   "display_name": "Python 3",
   "language": "python",
   "name": "python3"
  },
  "language_info": {
   "codemirror_mode": {
    "name": "ipython",
    "version": 3
   },
   "file_extension": ".py",
   "mimetype": "text/x-python",
   "name": "python",
   "nbconvert_exporter": "python",
   "pygments_lexer": "ipython3",
   "version": "3.7.2"
  }
 },
 "nbformat": 4,
 "nbformat_minor": 2
}
