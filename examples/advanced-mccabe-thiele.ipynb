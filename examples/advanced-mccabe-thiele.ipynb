{
 "cells": [
  {
   "cell_type": "markdown",
   "metadata": {},
   "source": [
    "<!--NOTEBOOK_HEADER-->\n",
    "*This notebook is adapted from course material from [CBE20255](https://jckantor.github.io/CBE20255)\n",
    "by Jeffrey Kantor (jeff at nd.edu); the original content is available [on Github](https://github.com/jckantor/CBE20255.git).\n",
    "The text is released under the [CC-BY-NC-ND-4.0 license](https://creativecommons.org/licenses/by-nc-nd/4.0/legalcode),\n",
    "and code is released under the [MIT license](https://opensource.org/licenses/MIT).*"
   ]
  },
  {
   "cell_type": "markdown",
   "metadata": {},
   "source": [
    "# Binary distillation with McCabe-Thiele method"
   ]
  },
  {
   "cell_type": "markdown",
   "metadata": {},
   "source": [
    "## Problem Statement\n",
    "\n",
    "*Adapted from Example 18.2, McCabe, Smith, and Harriott, \"Unit Operations of Chemical Engineering,\" 5th ed., 1993.* \n",
    "\n",
    "A continuous fractionating column is to be designed to separate 30,000 kg/h of a mixture of 40% benzene and 60% toluene into an overhead product containing 97% benzene and a bottom product containing 98% toluene (by weight). A reflux ratio of 3.5 mol to 1 mol of product is to be used. The molal latent heats of benzene and toluene are 7,360 and 7,960 cal/g mol, respectively.  Benzene and toluene form an ideal system with a relative volatility of about 2.5. The feed has a boiling point of 95 &deg;C at a pressure of 1 atm. \n",
    "\n",
    "We would like to determine the number of ideal plates and the position of the feed plate if the feed is liquid and at its boiling point."
   ]
  },
  {
   "cell_type": "code",
   "execution_count": 1,
   "metadata": {},
   "outputs": [],
   "source": [
    "import numpy as np\n",
    "import matplotlib.pyplot as plt\n",
    "from scipy.optimize import fsolve\n",
    "from math import exp as exp\n",
    "from math import pow as pow\n",
    "%matplotlib inline"
   ]
  },
  {
   "cell_type": "markdown",
   "metadata": {},
   "source": [
    "## Production Rate\n",
    "\n",
    "The molecular weight of benzene is 78 and that of toluene is 92.\n",
    "\n",
    "It is sometimes convenient to store values in dictionaries when dealing with multiple variables of the same type. (Another approach is to create a class, but that is beyond of the scope of today's short lesson.)"
   ]
  },
  {
   "cell_type": "code",
   "execution_count": 2,
   "metadata": {},
   "outputs": [],
   "source": [
    "mw = dict()\n",
    "mw['benzene'] = 78\n",
    "mw['toluene'] = 92 "
   ]
  },
  {
   "cell_type": "code",
   "execution_count": 3,
   "metadata": {},
   "outputs": [
    {
     "data": {
      "text/plain": [
       "{'benzene': 78, 'toluene': 92}"
      ]
     },
     "execution_count": 3,
     "metadata": {},
     "output_type": "execute_result"
    }
   ],
   "source": [
    "mw"
   ]
  },
  {
   "cell_type": "code",
   "execution_count": 4,
   "metadata": {},
   "outputs": [
    {
     "data": {
      "text/plain": [
       "dict"
      ]
     },
     "execution_count": 4,
     "metadata": {},
     "output_type": "execute_result"
    }
   ],
   "source": [
    "type(mw)"
   ]
  },
  {
   "cell_type": "markdown",
   "metadata": {},
   "source": [
    "The 'dict.keys()' method returns a `dict_keys` object containing a list of the dictionary's keys."
   ]
  },
  {
   "cell_type": "code",
   "execution_count": 5,
   "metadata": {},
   "outputs": [
    {
     "data": {
      "text/plain": [
       "dict_keys(['benzene', 'toluene'])"
      ]
     },
     "execution_count": 5,
     "metadata": {},
     "output_type": "execute_result"
    }
   ],
   "source": [
    "mw.keys()"
   ]
  },
  {
   "cell_type": "markdown",
   "metadata": {},
   "source": [
    "This object can be iterated over in a for-loop."
   ]
  },
  {
   "cell_type": "code",
   "execution_count": 6,
   "metadata": {},
   "outputs": [
    {
     "name": "stdout",
     "output_type": "stream",
     "text": [
      "mw['benzene ']: 78.00\n",
      "mw['toluene ']: 92.00\n"
     ]
    }
   ],
   "source": [
    "for key in mw.keys():\n",
    "    print('mw[\\'{:8s}\\']: {:4.2f}'.format(key, mw[key]))"
   ]
  },
  {
   "cell_type": "markdown",
   "metadata": {},
   "source": [
    "A simple mass balance can be used to compute the feed, overhead, and bottoms in mole fraction of benzene ($x_F$, $x_D$, and $x_B$, respectively)."
   ]
  },
  {
   "cell_type": "code",
   "execution_count": null,
   "metadata": {},
   "outputs": [],
   "source": [
    "A = 'benzene'\n",
    "B = 'toluene'\n",
    "\n",
    "xF = (40/mw[A] / (40/mw[A] + 60/mw[B]))\n",
    "xD = (97/mw[A] / (97/mw[A] +  3/mw[B]))\n",
    "xB = ( 2/mw[A] / ( 2/mw[A] + 98/mw[B]))\n",
    "\n",
    "print('xF: {:.2f}'.format(xF))\n",
    "print('xD: {:.2f}'.format(xD))\n",
    "print('xB: {:.2f}'.format(xB))"
   ]
  },
  {
   "cell_type": "markdown",
   "metadata": {},
   "source": [
    "### Saturation Pressure Data\n",
    "\n",
    "The saturation (vapor) pressure of benzene and toluene can be computed by\n",
    "\n",
    "\\begin{align}\n",
    "\\ln \\frac{P_{sat}}{P_c} &= \\frac{Ax + Bx^{1.5} + Cx^3 + Dx^6}{1-x}\\\\\n",
    "x &= 1-\\frac{T}{T_c}\n",
    "\\end{align}\n",
    "\n",
    "The constants for these equations come from Appendix A of Reid, Prausnitz, ane Poling with units of temperature in Kelvin and pressure in bar. \n",
    "\n",
    "We will store the functions in dictionaries where the key is an identifier for the chemical specie."
   ]
  },
  {
   "cell_type": "code",
   "execution_count": null,
   "metadata": {},
   "outputs": [],
   "source": [
    "x_Psat = dict()\n",
    "x_Psat['benzene'] = lambda T: 1 - T/562.2\n",
    "x_Psat['toluene'] = lambda T: 1 - T/591.8\n",
    "\n",
    "Psat = dict()\n",
    "Psat['benzene'] = lambda T: 48.9 * exp(( -6.98273 * x_Psat['benzene'](T) +\n",
    "                                         1.33213 * pow(x_Psat['benzene'](T), 3/2) +\n",
    "                                         -2.62863 * pow(x_Psat['benzene'](T), 3) +\n",
    "                                         -3.33399 * pow(x_Psat['benzene'](T), 6) )/ (1-x_Psat['benzene'](T)))\n",
    "Psat['toluene'] = lambda T: 41.0 * exp(( -7.28607 * x_Psat['toluene'](T) +\n",
    "                                         1.38091 * pow(x_Psat['toluene'](T), 3/2) +\n",
    "                                         -2.83433 * pow(x_Psat['toluene'](T), 3) +\n",
    "                                         -2.79168 * pow(x_Psat['toluene'](T), 6) )/ (1-x_Psat['toluene'](T)))"
   ]
  },
  {
   "cell_type": "markdown",
   "metadata": {},
   "source": [
    "### Saturation Temperatures\n",
    "\n",
    "We can solve the $P_{sat}$ equation for temperature to compute the saturation temperatures (boiling points) for benzene and toluene at the operating pressure (1 atm = 1.01325 bar). This will determine the lower and upper bound on temperatures for the equilibrium-line."
   ]
  },
  {
   "cell_type": "code",
   "execution_count": null,
   "metadata": {},
   "outputs": [],
   "source": [
    "Tsat = dict()\n",
    "for s in Psat.keys():\n",
    "    Tsat[s] = lambda P, s=s: fsolve(lambda T: Psat[s](T)-P, 400)[0]"
   ]
  },
  {
   "cell_type": "code",
   "execution_count": null,
   "metadata": {},
   "outputs": [],
   "source": [
    "P = 1.01325 # pressure in bar\n",
    "\n",
    "T_A = Tsat[A](P)\n",
    "T_B = Tsat[B](P)\n",
    "\n",
    "print(\"{:12s}  {:.1f} K\".format(A, T_A))\n",
    "print(\"{:12s}  {:.1f} K\".format(B, T_B))"
   ]
  },
  {
   "cell_type": "markdown",
   "metadata": {},
   "source": [
    "These values are very close to the actual boiling points for benzene and toluene of 353.2 K and 383.8 K, respectively.  \n",
    "\n",
    "*Of course, since we are operating at 1 atm, we could have just looked these values up in the first place, but the above approach is necessary if we are operating at some other pressure!*\n",
    "\n",
    "Now, we create an array of temperatures for our plots.\n",
    "\n",
    "We will use the `numpy.linspace()` method to generate the sequence of numbers between $T_A$ and $T_B$."
   ]
  },
  {
   "cell_type": "code",
   "execution_count": null,
   "metadata": {},
   "outputs": [],
   "source": [
    "T = np.linspace(T_A, T_B)\n",
    "T"
   ]
  },
  {
   "cell_type": "markdown",
   "metadata": {},
   "source": [
    "## Equilibrium Diagram\n",
    "\n",
    "For the McCabe-Thiele graphical method, we first need equations for the equilibrium diagram. Our x-coordinate will be the liquid mole fraction of benzene, and our y-coordinate is the vapor mole fraction of toluene.\n",
    "\n",
    "\\begin{align}\n",
    "x_{benzene} &= \\frac{P-P_{sat, toluene}}{P_{sat, benzene} - P_{sat, toluene}} \\\\\n",
    "y_{toluene} &= \\frac{x_{benzene} P_{sat, benzene}}{P}\n",
    "\\end{align}"
   ]
  },
  {
   "cell_type": "code",
   "execution_count": null,
   "metadata": {},
   "outputs": [],
   "source": [
    "x = lambda T: (P-Psat[B](T))/(Psat[A](T)-Psat[B](T))\n",
    "y = lambda T: x(T)*Psat[A](T)/P"
   ]
  },
  {
   "cell_type": "markdown",
   "metadata": {},
   "source": [
    "We can now plot the equilibrium curve, $x(T)$ versus $y(T)$. It's also useful to plot a diagonal line ($x=y$)."
   ]
  },
  {
   "cell_type": "code",
   "execution_count": null,
   "metadata": {},
   "outputs": [],
   "source": [
    "plt.figure(figsize=(10,10))\n",
    "plt.plot([x(T) for T in T],[y(T) for T in T])\n",
    "\n",
    "plt.plot([0,1],[0,1],'b--')\n",
    "plt.axis('equal')\n",
    "plt.xticks(np.linspace(0,1.0,21))\n",
    "plt.yticks(np.linspace(0.05,1.0,20));\n",
    "\n",
    "plt.title('Equilibrium Diagram for {:s}/{:s} at P = {:.5f} bar ({:.5f} atm)'.format(A,B,P,P/1.01325))\n",
    "plt.xlabel('Liquid Mole Fraction {:s}'.format(A))\n",
    "plt.ylabel('Vapor Mole Fraction {:s}'.format(B))\n",
    "\n",
    "plt.xlim(0,1)\n",
    "plt.ylim(0,1)\n",
    "plt.grid();"
   ]
  },
  {
   "cell_type": "markdown",
   "metadata": {},
   "source": [
    "We will then add verticals at $x_D$, $x_F$, and $x_B$ from the x-axis to the diagonal of the diagram."
   ]
  },
  {
   "cell_type": "code",
   "execution_count": null,
   "metadata": {},
   "outputs": [],
   "source": [
    "plt.figure(figsize=(10,10))\n",
    "plt.plot([x(T) for T in T],[y(T) for T in T])\n",
    "\n",
    "plt.plot([0,1],[0,1],'b--')\n",
    "plt.axis('equal')\n",
    "plt.xticks(np.linspace(0,1.0,21))\n",
    "plt.yticks(np.linspace(0.05,1.0,20))\n",
    "\n",
    "### BEGIN NEW CODE ###\n",
    "\n",
    "plt.plot([xD,xD], [0,xD], 'r--')\n",
    "plt.plot(xD,xD, 'ro', ms=10)\n",
    "plt.text(xD-0.11, 0.02, 'xD = {:0.3f}'.format(float(xD)))\n",
    "\n",
    "plt.plot([xF,xF], [0,xF], 'r--')\n",
    "plt.plot([xF,xF], [xF,xF], 'ro', ms=10)\n",
    "plt.text(xF+0.01, 0.02, 'xF = {:0.3f}'.format(float(xF)))\n",
    "\n",
    "plt.plot([xB,xB], [0,xB], 'r--')\n",
    "plt.plot(xB,xB, 'ro', ms=10)\n",
    "plt.text(xB+0.01, 0.02, 'xB = {:0.3f}'.format(float(xB)))\n",
    "\n",
    "### END NEW CODE ###\n",
    "\n",
    "plt.xlim(0,1)\n",
    "plt.ylim(0,1)\n",
    "plt.grid();"
   ]
  },
  {
   "cell_type": "markdown",
   "metadata": {},
   "source": [
    "## Feed line\n",
    "\n",
    "The second step is to extend the feed line to the equilibrium curve. First, we solve for the temperature at which the vertical feed line intercepts the equilibrium curve. We'll use `fsolve` to find the zero of $x(T) - x_F$, using the mean of the T array as a guess. We could also use $(T_A + T_B)/2$. \n",
    "\n",
    "(We imported `fsolve` with the command `from scipy.optimize import fsolve` above.)\n",
    "\n",
    "Then, we will substitute this temperature into our y-equation to get $y_F$."
   ]
  },
  {
   "cell_type": "code",
   "execution_count": null,
   "metadata": {},
   "outputs": [],
   "source": [
    "Tbub = fsolve(lambda T:x(T) - xF, np.mean(T))\n",
    "yF = y(Tbub[0])"
   ]
  },
  {
   "cell_type": "code",
   "execution_count": null,
   "metadata": {},
   "outputs": [],
   "source": [
    "plt.figure(figsize=(10,10))\n",
    "plt.plot([x(T) for T in T],[y(T) for T in T])\n",
    "\n",
    "plt.plot([0,1],[0,1],'b--')\n",
    "plt.axis('equal')\n",
    "plt.xticks(np.linspace(0,1.0,21))\n",
    "plt.yticks(np.linspace(0.05,1.0,20))\n",
    "\n",
    "plt.xlabel('Liquid Mole Fraction {:s}'.format(A))\n",
    "plt.ylabel('Vapor Mole Fraction {:s}'.format(B))\n",
    "\n",
    "plt.plot([xD,xD], [0,xD], 'r--')\n",
    "plt.plot(xD,xD, 'ro', ms=10)\n",
    "plt.text(xD-0.11, 0.02, 'xD = {:0.3f}'.format(float(xD)))\n",
    "\n",
    "plt.plot([xF,xF,xF],[0,xF,yF],'r--')  ### MODIFIED LINE ###\n",
    "plt.plot([xF,xF],[xF,yF],'ro',ms=10)  ### NEW LINE ###\n",
    "plt.text(xF+0.01,0.02,'xF = {:0.3f}'.format(float(xF)))  \n",
    "plt.text(xF-0.1,yF+0.02,'yF = {:0.3f}'.format(float(yF))) ### NEW LINE ###\n",
    "\n",
    "plt.plot([xB,xB], [0,xB], 'r--')\n",
    "plt.plot(xB,xB, 'ro', ms=10)\n",
    "plt.text(xB+0.01, 0.02, 'xB = {:0.3f}'.format(float(xB)))\n",
    "\n",
    "plt.xlim(0,1)\n",
    "plt.ylim(0,1)\n",
    "plt.grid();"
   ]
  },
  {
   "cell_type": "markdown",
   "metadata": {},
   "source": [
    "## Operating lines\n",
    "\n",
    "Next, we plot the operating lines.  The operating line for the rectifying section is\n",
    "\n",
    "\\begin{equation}\n",
    "y_{n+1} = \\frac{R_D}{R_D+1} x_n + \\frac{x_D}{R_D + 1}\n",
    "\\end{equation}\n",
    "\n",
    "Therefore, the intercept of the rectifying line on the y-axis is given by $x_D/(R_D + 1)$, where $R_D$ is the reflux ratio (3.5 for our problem).  The y-value of the intercept of the rectifying line and the stripping line, $z_F$, at $x_F$ can then be calculated. "
   ]
  },
  {
   "cell_type": "code",
   "execution_count": null,
   "metadata": {},
   "outputs": [],
   "source": [
    "R_D = 3.5\n",
    "R_slope = R_D/(R_D+1)\n",
    "R_intercept = xD/(R_D + 1)\n",
    "print('Rectifying line intercept: {:0.3f}'.format(R_intercept))\n",
    "zF = R_slope * xF + R_intercept\n",
    "print('Rectifying and stripping line intercept: {:0.3f}'.format(zF))"
   ]
  },
  {
   "cell_type": "markdown",
   "metadata": {},
   "source": [
    "The slope of the stripping line is:\n",
    "\n",
    "\\begin{equation}\n",
    "S_{slope} = \\frac{z_F-x_B}{x_F-x_B}\n",
    "\\end{equation}"
   ]
  },
  {
   "cell_type": "code",
   "execution_count": null,
   "metadata": {},
   "outputs": [],
   "source": [
    "S_slope = (zF-xB)/(xF-xB)\n",
    "S = 1/(S_slope-1)\n",
    "print('Stripping factor: {:0.3f}'.format(S))"
   ]
  },
  {
   "cell_type": "code",
   "execution_count": null,
   "metadata": {},
   "outputs": [],
   "source": [
    "plt.figure(figsize=(10,10))\n",
    "plt.plot([x(T) for T in T],[y(T) for T in T])\n",
    "plt.plot([0,1],[0,1],'b--')\n",
    "plt.axis('equal')\n",
    "plt.xticks(np.linspace(0,1.0,21))\n",
    "plt.yticks(np.linspace(0.05,1.0,20))\n",
    "\n",
    "plt.xlabel('Liquid Mole Fraction {:s}'.format(A))\n",
    "plt.ylabel('Vapor Mole Fraction {:s}'.format(B))\n",
    "\n",
    "plt.plot([xD,xD], [0,xD], 'r--')\n",
    "plt.plot(xD,xD, 'ro', ms=10)\n",
    "plt.text(xD-0.11, 0.02, 'xD = {:0.3f}'.format(float(xD)))\n",
    "\n",
    "plt.plot([xF,xF,xF],[0,xF,yF],'r--')\n",
    "plt.plot([xF,xF],[xF,yF],'ro',ms=10)\n",
    "plt.text(xF+0.01,0.02,'xF = {:0.3f}'.format(float(xF)))\n",
    "plt.text(xF-0.1,yF+0.02,'yF = {:0.3f}'.format(float(yF)));\n",
    "\n",
    "plt.plot([xB,xB], [0,xB], 'r--')\n",
    "plt.plot(xB,xB, 'ro', ms=10)\n",
    "plt.text(xB+0.01, 0.02, 'xB = {:0.3f}'.format(float(xB)))\n",
    "\n",
    "### BEGIN NEW CODE ###\n",
    "\n",
    "plt.plot([xD,xF],[xD,zF],'r-')\n",
    "plt.plot([xB,xF],[xB,zF],'r-');\n",
    "\n",
    "### END NEW CODE ###\n",
    "\n",
    "plt.xlim(0,1)\n",
    "plt.ylim(0,1)\n",
    "plt.grid();"
   ]
  },
  {
   "cell_type": "markdown",
   "metadata": {},
   "source": [
    "## Rectangular steps = number of ideal plates\n",
    "\n",
    "The next step is to draw the rectangular steps between the two operating lines and the equilibrium curve to determine the number of ideal plates. This is done with a while loop."
   ]
  },
  {
   "cell_type": "code",
   "execution_count": null,
   "metadata": {},
   "outputs": [],
   "source": [
    "plt.figure(figsize=(10,10))\n",
    "plt.plot([x(T) for T in T],[y(T) for T in T])\n",
    "plt.plot([0,1],[0,1],'b--')\n",
    "plt.axis('equal')\n",
    "plt.xticks(np.linspace(0,1.0,21))\n",
    "plt.yticks(np.linspace(0.05,1.0,20))\n",
    "\n",
    "plt.xlabel('Liquid Mole Fraction {:s}'.format(A))\n",
    "plt.ylabel('Vapor Mole Fraction {:s}'.format(B))\n",
    "\n",
    "plt.plot([xD,xD], [0,xD], 'r--')\n",
    "plt.plot(xD,xD, 'ro', ms=10)\n",
    "plt.text(xD-0.11, 0.02, 'xD = {:0.3f}'.format(float(xD)))\n",
    "\n",
    "plt.plot([xF,xF,xF],[0,xF,yF],'r--')\n",
    "plt.plot([xF,xF],[xF,yF],'ro',ms=10)\n",
    "plt.text(xF+0.01,0.02,'xF = {:0.3f}'.format(float(xF)))\n",
    "plt.text(xF-0.1,yF+0.02,'yF = {:0.3f}'.format(float(yF)));\n",
    "\n",
    "plt.plot([xB,xB], [0,xB], 'r--')\n",
    "plt.plot(xB,xB, 'ro', ms=10)\n",
    "plt.text(xB+0.01, 0.02, 'xB = {:0.3f}'.format(float(xB)))\n",
    "\n",
    "\n",
    "plt.plot([xD,xF],[xD,zF],'r-')\n",
    "plt.plot([xB,xF],[xB,zF],'r-')\n",
    "\n",
    "plt.xlim(0,1)\n",
    "plt.ylim(0,1)\n",
    "plt.grid();\n",
    "\n",
    "### BEGIN NEW CODE ###\n",
    "\n",
    "xP = xD\n",
    "yP = xD\n",
    "\n",
    "nTray = 0\n",
    "\n",
    "while xP > xB:\n",
    "    nTray += 1\n",
    "\n",
    "    # store (xP, yP) in (xQ, yQ)\n",
    "    xQ = xP\n",
    "    yQ = yP\n",
    "\n",
    "    # solve for new xP and plot horizontal line\n",
    "    Tdew = fsolve(lambda T:y(T) - yP, 400)\n",
    "    xP = x(Tdew)\n",
    "    plt.plot([xQ,xP], [yQ,yP], 'r') \n",
    "    \n",
    "    # plot a numbered circle indicating the ideal trays\n",
    "    if xP > xB:\n",
    "        plt.plot(xP, yP, 'ro', ms=5)\n",
    "        plt.text(xP-0.03, yP, nTray)\n",
    "    \n",
    "    # store xP in xQ\n",
    "    xQ = xP\n",
    "    \n",
    "    # compute new yP and plot vertical line\n",
    "    yP = min([xD - R_slope * (xD-xP),xB + ((S+1)/S)*(xP-xB)])\n",
    "    plt.plot([xQ,xP],[yQ,yP],'r')\n",
    "\n",
    "nTray -= 1 # Account for the reboiler\n",
    "\n",
    "plt.text(0.1,0.75,'nTrays = {:d}'.format(int(nTray)));\n",
    "\n",
    "### END NEW CODE ###"
   ]
  },
  {
   "cell_type": "markdown",
   "metadata": {},
   "source": [
    "## Feed plate location\n",
    "\n",
    "Ahhh, but we're not done yet! We didn't determine the location of the feed plate. To do that, we just check to see when $x_P$ goes below $x_F$."
   ]
  },
  {
   "cell_type": "code",
   "execution_count": null,
   "metadata": {},
   "outputs": [],
   "source": [
    "plt.figure(figsize=(10,10))\n",
    "plt.plot([x(T) for T in T],[y(T) for T in T])\n",
    "plt.plot([0,1],[0,1],'b--')\n",
    "plt.axis('equal')\n",
    "plt.xticks(np.linspace(0,1.0,21))\n",
    "plt.yticks(np.linspace(0.05,1.0,20))\n",
    "\n",
    "plt.xlabel('Liquid Mole Fraction {:s}'.format(A))\n",
    "plt.ylabel('Vapor Mole Fraction {:s}'.format(B))\n",
    "\n",
    "plt.plot([xD,xD], [0,xD], 'r--')\n",
    "plt.plot(xD,xD, 'ro', ms=10)\n",
    "plt.text(xD-0.11, 0.02, 'xD = {:0.3f}'.format(float(xD)))\n",
    "\n",
    "plt.plot([xF,xF,xF],[0,xF,yF],'r--')\n",
    "plt.plot([xF,xF],[xF,yF],'ro',ms=10)\n",
    "plt.text(xF+0.01,0.02,'xF = {:0.3f}'.format(float(xF)))\n",
    "plt.text(xF-0.1,yF+0.02,'yF = {:0.3f}'.format(float(yF)));\n",
    "\n",
    "plt.plot([xB,xB], [0,xB], 'r--')\n",
    "plt.plot(xB,xB, 'ro', ms=10)\n",
    "plt.text(xB+0.01, 0.02, 'xB = {:0.3f}'.format(float(xB)))\n",
    "\n",
    "plt.xlim(0,1)\n",
    "plt.ylim(0,1)\n",
    "plt.grid();\n",
    "\n",
    "plt.plot([xD,xF],[xD,zF],'r-')\n",
    "plt.plot([xB,xF],[xB,zF],'r-')\n",
    "\n",
    "xP = xD\n",
    "yP = xD\n",
    "\n",
    "nTray = 0\n",
    "located_feed = False\n",
    "fTray = None\n",
    "\n",
    "while xP > xB:\n",
    "    nTray += 1\n",
    "\n",
    "    xQ = xP\n",
    "    yQ = yP\n",
    "\n",
    "    Tdew = fsolve(lambda T:y(T) - yP, 400)\n",
    "    xP = x(Tdew)\n",
    "    plt.plot([xQ,xP], [yQ,yP], 'r') \n",
    "    \n",
    "    if xP > xB:\n",
    "        plt.plot(xP, yP, 'ro', ms=5)\n",
    "        plt.text(xP-0.03, yP, nTray)\n",
    "\n",
    "    ### BEGIN NEW CODE ###\n",
    "    \n",
    "    if located_feed is False and xP < xF:\n",
    "        located_feed = True\n",
    "        fTray = nTray\n",
    "        plt.text(0.1,0.70,'Feed Tray Location: {:d}'.format(int(fTray)));\n",
    "        \n",
    "    ### END NEW CODE ###\n",
    "    \n",
    "    xQ = xP\n",
    "    yP = min([xD - R_slope * (xD-xP),xB + ((S+1)/S)*(xP-xB)])\n",
    "    plt.plot([xQ,xP],[yQ,yP],'r')\n",
    "\n",
    "nTray -= 1\n",
    "\n",
    "plt.text(0.1,0.75,'Number of Ideal Trays: {:d}'.format(int(nTray)));"
   ]
  },
  {
   "cell_type": "code",
   "execution_count": null,
   "metadata": {},
   "outputs": [],
   "source": []
  }
 ],
 "metadata": {
  "kernelspec": {
   "display_name": "Python 3",
   "language": "python",
   "name": "python3"
  },
  "language_info": {
   "codemirror_mode": {
    "name": "ipython",
    "version": 3
   },
   "file_extension": ".py",
   "mimetype": "text/x-python",
   "name": "python",
   "nbconvert_exporter": "python",
   "pygments_lexer": "ipython3",
   "version": "3.7.2"
  }
 },
 "nbformat": 4,
 "nbformat_minor": 2
}
